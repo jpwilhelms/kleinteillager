{
 "cells": [
  {
   "cell_type": "code",
   "execution_count": 7,
   "id": "96554ee7",
   "metadata": {},
   "outputs": [
    {
     "name": "stdout",
     "output_type": "stream",
     "text": [
      "\n",
      "\n",
      "The default speed & direction of motor is LOW & Forward.....\n",
      "r-run s-stop f-forward b-backward l-low m-medium h-high e-exit\n",
      "\n",
      "\n"
     ]
    }
   ],
   "source": [
    "import RPi.GPIO as GPIO          \n",
    "from time import sleep\n",
    "\n",
    "# motor 2\n",
    "#in1 = 24\n",
    "#in2 = 25\n",
    "#en = 23\n",
    "\n",
    "# motor 3\n",
    "#in1 = 9\n",
    "#in2 = 11\n",
    "#en = 10\n",
    "\n",
    "# motor 1\n",
    "in1 = 16\n",
    "in2 = 26\n",
    "en = 6\n",
    "temp1=1\n",
    "\n",
    "GPIO.setmode(GPIO.BCM)\n",
    "GPIO.setup(in1,GPIO.OUT)\n",
    "GPIO.setup(in2,GPIO.OUT)\n",
    "GPIO.setup(en,GPIO.OUT)\n",
    "GPIO.output(in1,GPIO.LOW)\n",
    "GPIO.output(in2,GPIO.LOW)\n",
    "p=GPIO.PWM(en,1000)\n",
    "p.start(25)\n",
    "print(\"\\n\")\n",
    "print(\"The default speed & direction of motor is LOW & Forward.....\")\n",
    "print(\"r-run s-stop f-forward b-backward l-low m-medium h-high e-exit\")\n",
    "print(\"\\n\")    "
   ]
  },
  {
   "cell_type": "code",
   "execution_count": null,
   "id": "673a935f",
   "metadata": {},
   "outputs": [
    {
     "name": "stdout",
     "output_type": "stream",
     "text": [
      "m\n",
      "medium\n",
      "b\n",
      "backward\n",
      "h\n",
      "high\n"
     ]
    }
   ],
   "source": [
    "while(1):\n",
    "\n",
    "    x=input()\n",
    "    \n",
    "    if x=='r':\n",
    "        print(\"run\")\n",
    "        if(temp1==1):\n",
    "         GPIO.output(in1,GPIO.HIGH)\n",
    "         GPIO.output(in2,GPIO.LOW)\n",
    "         print(\"forward\")\n",
    "         x='z'\n",
    "        else:\n",
    "         GPIO.output(in1,GPIO.LOW)\n",
    "         GPIO.output(in2,GPIO.HIGH)\n",
    "         print(\"backward\")\n",
    "         x='z'\n",
    "\n",
    "\n",
    "    elif x=='s':\n",
    "        print(\"stop\")\n",
    "        GPIO.output(in1,GPIO.LOW)\n",
    "        GPIO.output(in2,GPIO.LOW)\n",
    "        x='z'\n",
    "\n",
    "    elif x=='f':\n",
    "        print(\"forward\")\n",
    "        GPIO.output(in1,GPIO.HIGH)\n",
    "        GPIO.output(in2,GPIO.LOW)\n",
    "        temp1=1\n",
    "        x='z'\n",
    "\n",
    "    elif x=='b':\n",
    "        print(\"backward\")\n",
    "        GPIO.output(in1,GPIO.LOW)\n",
    "        GPIO.output(in2,GPIO.HIGH)\n",
    "        temp1=0\n",
    "        x='z'\n",
    "\n",
    "    elif x=='l':\n",
    "        print(\"low\")\n",
    "        p.ChangeDutyCycle(25)\n",
    "        x='z'\n",
    "\n",
    "    elif x=='m':\n",
    "        print(\"medium\")\n",
    "        p.ChangeDutyCycle(50)\n",
    "        x='z'\n",
    "\n",
    "    elif x=='h':\n",
    "        print(\"high\")\n",
    "        p.ChangeDutyCycle(75)\n",
    "        x='z'\n",
    "     \n",
    "    \n",
    "    elif x=='e':\n",
    "        GPIO.cleanup()\n",
    "        break\n",
    "    \n",
    "    else:\n",
    "        print(\"<<<  wrong data  >>>\")\n",
    "        print(\"please enter the defined data to continue.....\")"
   ]
  }
 ],
 "metadata": {
  "kernelspec": {
   "display_name": "Python 3 (ipykernel)",
   "language": "python",
   "name": "python3"
  },
  "language_info": {
   "codemirror_mode": {
    "name": "ipython",
    "version": 3
   },
   "file_extension": ".py",
   "mimetype": "text/x-python",
   "name": "python",
   "nbconvert_exporter": "python",
   "pygments_lexer": "ipython3",
   "version": "3.7.3"
  }
 },
 "nbformat": 4,
 "nbformat_minor": 5
}
